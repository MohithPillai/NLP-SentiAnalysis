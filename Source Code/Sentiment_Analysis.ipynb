{
 "cells": [
  {
   "cell_type": "markdown",
   "id": "788d5011",
   "metadata": {},
   "source": [
    "## IMPORTING PACKAGES"
   ]
  },
  {
   "cell_type": "code",
   "execution_count": 24,
   "id": "9ca9a8c9",
   "metadata": {},
   "outputs": [],
   "source": [
    "#Data Management\n",
    "import pandas as pd\n",
    "import numpy as np\n",
    "np.random.seed(0)\n",
    "\n",
    "from pandas_profiling import ProfileReport\n",
    "\n",
    "#TextBlob Features\n",
    "from textblob import TextBlob\n",
    "\n",
    "#Plotting\n",
    "import matplotlib.pyplot as plt\n",
    "%matplotlib inline\n",
    "\n",
    "#sk-learn\n",
    "from sklearn.model_selection import train_test_split\n",
    "from sklearn.metrics import accuracy_score\n",
    "from sklearn.metrics import confusion_matrix,ConfusionMatrixDisplay\n",
    "\n",
    "#nltk\n",
    "import nltk\n",
    "from nltk.corpus import stopwords\n",
    "from nltk.tokenize import word_tokenize\n",
    "from nltk.stem import WordNetLemmatizer\n",
    "\n",
    "#Tensorflow\n",
    "import tensorflow as tf\n",
    "from tensorflow.keras.preprocessing.text import Tokenizer\n",
    "\n",
    "#Test\n",
    "from collections import Counter"
   ]
  },
  {
   "cell_type": "markdown",
   "id": "44cf0848",
   "metadata": {},
   "source": [
    "## IMPORTING DATASET"
   ]
  },
  {
   "cell_type": "code",
   "execution_count": 9,
   "id": "5d808a2a",
   "metadata": {},
   "outputs": [],
   "source": [
    "train_df = pd.read_csv(\"C:\\\\Users\\\\Mohit\\\\Desktop\\\\CSV_files\\\\twitter_training.csv\",names=['Tweet_id','entity','sentiment','tweet_content'])\n",
    "\n",
    "test_df = pd.read_csv(\"C:\\\\Users\\\\Mohit\\\\Desktop\\\\CSV_files\\\\twitter_validation.csv\",names=['Tweet_id','entity','sentiment','tweet_content'])"
   ]
  },
  {
   "cell_type": "markdown",
   "id": "240bddf9",
   "metadata": {},
   "source": [
    "### Dropping NA values"
   ]
  },
  {
   "cell_type": "code",
   "execution_count": 10,
   "id": "53996ec2",
   "metadata": {},
   "outputs": [],
   "source": [
    "train_df = train_df.dropna()\n",
    "test_df = test_df.dropna()"
   ]
  },
  {
   "cell_type": "code",
   "execution_count": 11,
   "id": "b95843bd",
   "metadata": {
    "scrolled": false
   },
   "outputs": [
    {
     "data": {
      "text/plain": [
       "(73996, 4)"
      ]
     },
     "execution_count": 11,
     "metadata": {},
     "output_type": "execute_result"
    }
   ],
   "source": [
    "train_df.shape"
   ]
  },
  {
   "cell_type": "markdown",
   "id": "b0ad034d",
   "metadata": {},
   "source": [
    "#### Subsetting dataset"
   ]
  },
  {
   "cell_type": "code",
   "execution_count": 12,
   "id": "f822fe33",
   "metadata": {},
   "outputs": [],
   "source": [
    "df = train_df.sample(frac=0.1)\n",
    "df.reset_index(drop=True,inplace=True)"
   ]
  },
  {
   "cell_type": "markdown",
   "id": "dca12975",
   "metadata": {},
   "source": [
    "## DATA EXPLORATION \n",
    "    -Basic visualisation\n",
    "    -Automated Data Exploration with pandas-profiling\n",
    "    -Checking for balance in output categories"
   ]
  },
  {
   "cell_type": "markdown",
   "id": "e6424b44",
   "metadata": {},
   "source": [
    "#### Basic Visualisation"
   ]
  },
  {
   "cell_type": "code",
   "execution_count": 13,
   "id": "fc9ba00f",
   "metadata": {},
   "outputs": [
    {
     "name": "stdout",
     "output_type": "stream",
     "text": [
      "<class 'pandas.core.frame.DataFrame'>\n",
      "RangeIndex: 7400 entries, 0 to 7399\n",
      "Data columns (total 4 columns):\n",
      " #   Column         Non-Null Count  Dtype \n",
      "---  ------         --------------  ----- \n",
      " 0   Tweet_id       7400 non-null   int64 \n",
      " 1   entity         7400 non-null   object\n",
      " 2   sentiment      7400 non-null   object\n",
      " 3   tweet_content  7400 non-null   object\n",
      "dtypes: int64(1), object(3)\n",
      "memory usage: 231.4+ KB\n"
     ]
    }
   ],
   "source": [
    "#See overall information of the dataset\n",
    "df.info()"
   ]
  },
  {
   "cell_type": "code",
   "execution_count": 14,
   "id": "73d4e329",
   "metadata": {},
   "outputs": [
    {
     "data": {
      "text/html": [
       "<div>\n",
       "<style scoped>\n",
       "    .dataframe tbody tr th:only-of-type {\n",
       "        vertical-align: middle;\n",
       "    }\n",
       "\n",
       "    .dataframe tbody tr th {\n",
       "        vertical-align: top;\n",
       "    }\n",
       "\n",
       "    .dataframe thead th {\n",
       "        text-align: right;\n",
       "    }\n",
       "</style>\n",
       "<table border=\"1\" class=\"dataframe\">\n",
       "  <thead>\n",
       "    <tr style=\"text-align: right;\">\n",
       "      <th></th>\n",
       "      <th>Tweet_id</th>\n",
       "      <th>entity</th>\n",
       "      <th>sentiment</th>\n",
       "      <th>tweet_content</th>\n",
       "    </tr>\n",
       "  </thead>\n",
       "  <tbody>\n",
       "    <tr>\n",
       "      <th>0</th>\n",
       "      <td>13040</td>\n",
       "      <td>Xbox(Xseries)</td>\n",
       "      <td>Irrelevant</td>\n",
       "      <td>Death stories gif of the day,</td>\n",
       "    </tr>\n",
       "    <tr>\n",
       "      <th>1</th>\n",
       "      <td>4167</td>\n",
       "      <td>CS-GO</td>\n",
       "      <td>Positive</td>\n",
       "      <td>Tagged by @brntwllm  . . fave games i've playe...</td>\n",
       "    </tr>\n",
       "    <tr>\n",
       "      <th>2</th>\n",
       "      <td>3197</td>\n",
       "      <td>Dota2</td>\n",
       "      <td>Negative</td>\n",
       "      <td>i admit nothing but my sadness that you're gone</td>\n",
       "    </tr>\n",
       "    <tr>\n",
       "      <th>3</th>\n",
       "      <td>4677</td>\n",
       "      <td>Google</td>\n",
       "      <td>Negative</td>\n",
       "      <td>I just won't be impressed until I can even dow...</td>\n",
       "    </tr>\n",
       "    <tr>\n",
       "      <th>4</th>\n",
       "      <td>11513</td>\n",
       "      <td>TomClancysRainbowSix</td>\n",
       "      <td>Positive</td>\n",
       "      <td>I am very really much looking forward to tonig...</td>\n",
       "    </tr>\n",
       "  </tbody>\n",
       "</table>\n",
       "</div>"
      ],
      "text/plain": [
       "   Tweet_id                entity   sentiment  \\\n",
       "0     13040         Xbox(Xseries)  Irrelevant   \n",
       "1      4167                 CS-GO    Positive   \n",
       "2      3197                 Dota2    Negative   \n",
       "3      4677                Google    Negative   \n",
       "4     11513  TomClancysRainbowSix    Positive   \n",
       "\n",
       "                                       tweet_content  \n",
       "0                      Death stories gif of the day,  \n",
       "1  Tagged by @brntwllm  . . fave games i've playe...  \n",
       "2    i admit nothing but my sadness that you're gone  \n",
       "3  I just won't be impressed until I can even dow...  \n",
       "4  I am very really much looking forward to tonig...  "
      ]
     },
     "execution_count": 14,
     "metadata": {},
     "output_type": "execute_result"
    }
   ],
   "source": [
    "df.head()"
   ]
  },
  {
   "cell_type": "markdown",
   "id": "489687bd",
   "metadata": {},
   "source": [
    "#### Checking balance of the data in output categories"
   ]
  },
  {
   "cell_type": "code",
   "execution_count": 26,
   "id": "78ee80fb",
   "metadata": {
    "scrolled": true
   },
   "outputs": [
    {
     "data": {
      "text/plain": [
       "<BarContainer object of 4 artists>"
      ]
     },
     "execution_count": 26,
     "metadata": {},
     "output_type": "execute_result"
    },
    {
     "data": {
      "image/png": "[encoded data removed]",
      "text/plain": [
       "<Figure size 432x288 with 1 Axes>"
      ]
     },
     "metadata": {
      "needs_background": "light"
     },
     "output_type": "display_data"
    }
   ],
   "source": [
    "# Checking balance of target classes\n",
    "sentiments = list(df[\"sentiment\"].unique())\n",
    "\n",
    "sentiment_nums = [len(df[df[\"sentiment\"]==sentiment])/len(df) for sentiment in sentiments]\n",
    "\n",
    "plt.bar(sentiments,sentiment_nums)"
   ]
  },
  {
   "cell_type": "markdown",
   "id": "61843f16",
   "metadata": {},
   "source": [
    "#### Basic Data Enrichment\n",
    "    -One-Hot Encoding\n",
    "    -Enrichment with Pre-Trained NLP Models (TextBlob)\n",
    "    -Labels to Indexes (and Back Again)"
   ]
  },
  {
   "cell_type": "code",
   "execution_count": 27,
   "id": "53825563",
   "metadata": {},
   "outputs": [
    {
     "name": "stdout",
     "output_type": "stream",
     "text": [
      "['Xbox(Xseries)' 'CS-GO' 'Dota2' 'Google' 'TomClancysRainbowSix'\n",
      " 'johnson&johnson' 'PlayerUnknownsBattlegrounds(PUBG)' 'Overwatch'\n",
      " 'AssassinsCreed' 'RedDeadRedemption(RDR)' 'Borderlands' 'WorldOfCraft'\n",
      " 'Microsoft' 'MaddenNFL' 'TomClancysGhostRecon' 'Verizon' 'HomeDepot'\n",
      " 'Fortnite' 'Amazon' 'LeagueOfLegends' 'ApexLegends' 'Facebook'\n",
      " 'CallOfDuty' 'GrandTheftAuto(GTA)' 'CallOfDutyBlackopsColdWar'\n",
      " 'Battlefield' 'Nvidia' 'Hearthstone' 'Cyberpunk2077' 'FIFA' 'NBA2K'\n",
      " 'PlayStation5(PS5)']\n",
      "32\n"
     ]
    }
   ],
   "source": [
    "#ONE HOT ENCODING\n",
    "\n",
    "# View all possible entities\n",
    "\n",
    "print(df[\"entity\"].unique())\n",
    "print(len(df[\"entity\"].unique()))"
   ]
  },
  {
   "cell_type": "code",
   "execution_count": 28,
   "id": "dd3eb588",
   "metadata": {},
   "outputs": [
    {
     "data": {
      "text/html": [
       "<div>\n",
       "<style scoped>\n",
       "    .dataframe tbody tr th:only-of-type {\n",
       "        vertical-align: middle;\n",
       "    }\n",
       "\n",
       "    .dataframe tbody tr th {\n",
       "        vertical-align: top;\n",
       "    }\n",
       "\n",
       "    .dataframe thead th {\n",
       "        text-align: right;\n",
       "    }\n",
       "</style>\n",
       "<table border=\"1\" class=\"dataframe\">\n",
       "  <thead>\n",
       "    <tr style=\"text-align: right;\">\n",
       "      <th></th>\n",
       "      <th>Tweet_id</th>\n",
       "      <th>entity</th>\n",
       "      <th>sentiment</th>\n",
       "      <th>tweet_content</th>\n",
       "      <th>entity_Amazon</th>\n",
       "      <th>entity_ApexLegends</th>\n",
       "      <th>entity_AssassinsCreed</th>\n",
       "      <th>entity_Battlefield</th>\n",
       "      <th>entity_Borderlands</th>\n",
       "      <th>entity_CS-GO</th>\n",
       "      <th>...</th>\n",
       "      <th>entity_Overwatch</th>\n",
       "      <th>entity_PlayStation5(PS5)</th>\n",
       "      <th>entity_PlayerUnknownsBattlegrounds(PUBG)</th>\n",
       "      <th>entity_RedDeadRedemption(RDR)</th>\n",
       "      <th>entity_TomClancysGhostRecon</th>\n",
       "      <th>entity_TomClancysRainbowSix</th>\n",
       "      <th>entity_Verizon</th>\n",
       "      <th>entity_WorldOfCraft</th>\n",
       "      <th>entity_Xbox(Xseries)</th>\n",
       "      <th>entity_johnson&amp;johnson</th>\n",
       "    </tr>\n",
       "  </thead>\n",
       "  <tbody>\n",
       "    <tr>\n",
       "      <th>0</th>\n",
       "      <td>13040</td>\n",
       "      <td>Xbox(Xseries)</td>\n",
       "      <td>Irrelevant</td>\n",
       "      <td>Death stories gif of the day,</td>\n",
       "      <td>0</td>\n",
       "      <td>0</td>\n",
       "      <td>0</td>\n",
       "      <td>0</td>\n",
       "      <td>0</td>\n",
       "      <td>0</td>\n",
       "      <td>...</td>\n",
       "      <td>0</td>\n",
       "      <td>0</td>\n",
       "      <td>0</td>\n",
       "      <td>0</td>\n",
       "      <td>0</td>\n",
       "      <td>0</td>\n",
       "      <td>0</td>\n",
       "      <td>0</td>\n",
       "      <td>1</td>\n",
       "      <td>0</td>\n",
       "    </tr>\n",
       "    <tr>\n",
       "      <th>1</th>\n",
       "      <td>4167</td>\n",
       "      <td>CS-GO</td>\n",
       "      <td>Positive</td>\n",
       "      <td>Tagged by @brntwllm  . . fave games i've playe...</td>\n",
       "      <td>0</td>\n",
       "      <td>0</td>\n",
       "      <td>0</td>\n",
       "      <td>0</td>\n",
       "      <td>0</td>\n",
       "      <td>1</td>\n",
       "      <td>...</td>\n",
       "      <td>0</td>\n",
       "      <td>0</td>\n",
       "      <td>0</td>\n",
       "      <td>0</td>\n",
       "      <td>0</td>\n",
       "      <td>0</td>\n",
       "      <td>0</td>\n",
       "      <td>0</td>\n",
       "      <td>0</td>\n",
       "      <td>0</td>\n",
       "    </tr>\n",
       "    <tr>\n",
       "      <th>2</th>\n",
       "      <td>3197</td>\n",
       "      <td>Dota2</td>\n",
       "      <td>Negative</td>\n",
       "      <td>i admit nothing but my sadness that you're gone</td>\n",
       "      <td>0</td>\n",
       "      <td>0</td>\n",
       "      <td>0</td>\n",
       "      <td>0</td>\n",
       "      <td>0</td>\n",
       "      <td>0</td>\n",
       "      <td>...</td>\n",
       "      <td>0</td>\n",
       "      <td>0</td>\n",
       "      <td>0</td>\n",
       "      <td>0</td>\n",
       "      <td>0</td>\n",
       "      <td>0</td>\n",
       "      <td>0</td>\n",
       "      <td>0</td>\n",
       "      <td>0</td>\n",
       "      <td>0</td>\n",
       "    </tr>\n",
       "    <tr>\n",
       "      <th>3</th>\n",
       "      <td>4677</td>\n",
       "      <td>Google</td>\n",
       "      <td>Negative</td>\n",
       "      <td>I just won't be impressed until I can even dow...</td>\n",
       "      <td>0</td>\n",
       "      <td>0</td>\n",
       "      <td>0</td>\n",
       "      <td>0</td>\n",
       "      <td>0</td>\n",
       "      <td>0</td>\n",
       "      <td>...</td>\n",
       "      <td>0</td>\n",
       "      <td>0</td>\n",
       "      <td>0</td>\n",
       "      <td>0</td>\n",
       "      <td>0</td>\n",
       "      <td>0</td>\n",
       "      <td>0</td>\n",
       "      <td>0</td>\n",
       "      <td>0</td>\n",
       "      <td>0</td>\n",
       "    </tr>\n",
       "    <tr>\n",
       "      <th>4</th>\n",
       "      <td>11513</td>\n",
       "      <td>TomClancysRainbowSix</td>\n",
       "      <td>Positive</td>\n",
       "      <td>I am very really much looking forward to tonig...</td>\n",
       "      <td>0</td>\n",
       "      <td>0</td>\n",
       "      <td>0</td>\n",
       "      <td>0</td>\n",
       "      <td>0</td>\n",
       "      <td>0</td>\n",
       "      <td>...</td>\n",
       "      <td>0</td>\n",
       "      <td>0</td>\n",
       "      <td>0</td>\n",
       "      <td>0</td>\n",
       "      <td>0</td>\n",
       "      <td>1</td>\n",
       "      <td>0</td>\n",
       "      <td>0</td>\n",
       "      <td>0</td>\n",
       "      <td>0</td>\n",
       "    </tr>\n",
       "  </tbody>\n",
       "</table>\n",
       "<p>5 rows × 36 columns</p>\n",
       "</div>"
      ],
      "text/plain": [
       "   Tweet_id                entity   sentiment  \\\n",
       "0     13040         Xbox(Xseries)  Irrelevant   \n",
       "1      4167                 CS-GO    Positive   \n",
       "2      3197                 Dota2    Negative   \n",
       "3      4677                Google    Negative   \n",
       "4     11513  TomClancysRainbowSix    Positive   \n",
       "\n",
       "                                       tweet_content  entity_Amazon  \\\n",
       "0                      Death stories gif of the day,              0   \n",
       "1  Tagged by @brntwllm  . . fave games i've playe...              0   \n",
       "2    i admit nothing but my sadness that you're gone              0   \n",
       "3  I just won't be impressed until I can even dow...              0   \n",
       "4  I am very really much looking forward to tonig...              0   \n",
       "\n",
       "   entity_ApexLegends  entity_AssassinsCreed  entity_Battlefield  \\\n",
       "0                   0                      0                   0   \n",
       "1                   0                      0                   0   \n",
       "2                   0                      0                   0   \n",
       "3                   0                      0                   0   \n",
       "4                   0                      0                   0   \n",
       "\n",
       "   entity_Borderlands  entity_CS-GO  ...  entity_Overwatch  \\\n",
       "0                   0             0  ...                 0   \n",
       "1                   0             1  ...                 0   \n",
       "2                   0             0  ...                 0   \n",
       "3                   0             0  ...                 0   \n",
       "4                   0             0  ...                 0   \n",
       "\n",
       "   entity_PlayStation5(PS5)  entity_PlayerUnknownsBattlegrounds(PUBG)  \\\n",
       "0                         0                                         0   \n",
       "1                         0                                         0   \n",
       "2                         0                                         0   \n",
       "3                         0                                         0   \n",
       "4                         0                                         0   \n",
       "\n",
       "   entity_RedDeadRedemption(RDR)  entity_TomClancysGhostRecon  \\\n",
       "0                              0                            0   \n",
       "1                              0                            0   \n",
       "2                              0                            0   \n",
       "3                              0                            0   \n",
       "4                              0                            0   \n",
       "\n",
       "   entity_TomClancysRainbowSix  entity_Verizon  entity_WorldOfCraft  \\\n",
       "0                            0               0                    0   \n",
       "1                            0               0                    0   \n",
       "2                            0               0                    0   \n",
       "3                            0               0                    0   \n",
       "4                            1               0                    0   \n",
       "\n",
       "   entity_Xbox(Xseries)  entity_johnson&johnson  \n",
       "0                     1                       0  \n",
       "1                     0                       0  \n",
       "2                     0                       0  \n",
       "3                     0                       0  \n",
       "4                     0                       0  \n",
       "\n",
       "[5 rows x 36 columns]"
      ]
     },
     "execution_count": 28,
     "metadata": {},
     "output_type": "execute_result"
    }
   ],
   "source": [
    "#One hot encoding ising pandas get_dummies()\n",
    "onehot = pd.get_dummies(df[\"entity\"],prefix=\"entity\")\n",
    "\n",
    "#Join bact to dataset\n",
    "df = df.join(onehot)\n",
    "\n",
    "df.head()"
   ]
  },
  {
   "cell_type": "code",
   "execution_count": 29,
   "id": "a0da81e0",
   "metadata": {},
   "outputs": [],
   "source": [
    "df = df.drop(\"entity\",axis=1)"
   ]
  },
  {
   "cell_type": "markdown",
   "id": "345d34d4",
   "metadata": {},
   "source": [
    "#### Enrichment with pre-trained models(TextBlob)"
   ]
  },
  {
   "cell_type": "code",
   "execution_count": 30,
   "id": "64b19ac3",
   "metadata": {},
   "outputs": [],
   "source": [
    "#Adding dimensions with TextBlob\n",
    "def tb_enrich(ls):\n",
    "    tb_polarity = []\n",
    "    tb_subject = []\n",
    "    \n",
    "    for tweet in ls:\n",
    "        tb_polarity.append(TextBlob(tweet).sentiment[0])\n",
    "        tb_subject.append(TextBlob(tweet).sentiment[1])\n",
    "        \n",
    "    return tb_polarity,tb_subject\n",
    "\n",
    "df[\"Polarity\"],df[\"Subjectivity\"] = tb_enrich(list(df[\"tweet_content\"]))"
   ]
  },
  {
   "cell_type": "code",
   "execution_count": 31,
   "id": "6edf5362",
   "metadata": {},
   "outputs": [
    {
     "data": {
      "text/html": [
       "<div>\n",
       "<style scoped>\n",
       "    .dataframe tbody tr th:only-of-type {\n",
       "        vertical-align: middle;\n",
       "    }\n",
       "\n",
       "    .dataframe tbody tr th {\n",
       "        vertical-align: top;\n",
       "    }\n",
       "\n",
       "    .dataframe thead th {\n",
       "        text-align: right;\n",
       "    }\n",
       "</style>\n",
       "<table border=\"1\" class=\"dataframe\">\n",
       "  <thead>\n",
       "    <tr style=\"text-align: right;\">\n",
       "      <th></th>\n",
       "      <th>Tweet_id</th>\n",
       "      <th>sentiment</th>\n",
       "      <th>tweet_content</th>\n",
       "      <th>entity_Amazon</th>\n",
       "      <th>entity_ApexLegends</th>\n",
       "      <th>entity_AssassinsCreed</th>\n",
       "      <th>entity_Battlefield</th>\n",
       "      <th>entity_Borderlands</th>\n",
       "      <th>entity_CS-GO</th>\n",
       "      <th>entity_CallOfDuty</th>\n",
       "      <th>...</th>\n",
       "      <th>entity_PlayerUnknownsBattlegrounds(PUBG)</th>\n",
       "      <th>entity_RedDeadRedemption(RDR)</th>\n",
       "      <th>entity_TomClancysGhostRecon</th>\n",
       "      <th>entity_TomClancysRainbowSix</th>\n",
       "      <th>entity_Verizon</th>\n",
       "      <th>entity_WorldOfCraft</th>\n",
       "      <th>entity_Xbox(Xseries)</th>\n",
       "      <th>entity_johnson&amp;johnson</th>\n",
       "      <th>Polarity</th>\n",
       "      <th>Subjectivity</th>\n",
       "    </tr>\n",
       "  </thead>\n",
       "  <tbody>\n",
       "    <tr>\n",
       "      <th>0</th>\n",
       "      <td>13040</td>\n",
       "      <td>Irrelevant</td>\n",
       "      <td>Death stories gif of the day,</td>\n",
       "      <td>0</td>\n",
       "      <td>0</td>\n",
       "      <td>0</td>\n",
       "      <td>0</td>\n",
       "      <td>0</td>\n",
       "      <td>0</td>\n",
       "      <td>0</td>\n",
       "      <td>...</td>\n",
       "      <td>0</td>\n",
       "      <td>0</td>\n",
       "      <td>0</td>\n",
       "      <td>0</td>\n",
       "      <td>0</td>\n",
       "      <td>0</td>\n",
       "      <td>1</td>\n",
       "      <td>0</td>\n",
       "      <td>0.000000</td>\n",
       "      <td>0.000000</td>\n",
       "    </tr>\n",
       "    <tr>\n",
       "      <th>1</th>\n",
       "      <td>4167</td>\n",
       "      <td>Positive</td>\n",
       "      <td>Tagged by @brntwllm  . . fave games i've playe...</td>\n",
       "      <td>0</td>\n",
       "      <td>0</td>\n",
       "      <td>0</td>\n",
       "      <td>0</td>\n",
       "      <td>0</td>\n",
       "      <td>1</td>\n",
       "      <td>0</td>\n",
       "      <td>...</td>\n",
       "      <td>0</td>\n",
       "      <td>0</td>\n",
       "      <td>0</td>\n",
       "      <td>0</td>\n",
       "      <td>0</td>\n",
       "      <td>0</td>\n",
       "      <td>0</td>\n",
       "      <td>0</td>\n",
       "      <td>0.038095</td>\n",
       "      <td>0.352381</td>\n",
       "    </tr>\n",
       "    <tr>\n",
       "      <th>2</th>\n",
       "      <td>3197</td>\n",
       "      <td>Negative</td>\n",
       "      <td>i admit nothing but my sadness that you're gone</td>\n",
       "      <td>0</td>\n",
       "      <td>0</td>\n",
       "      <td>0</td>\n",
       "      <td>0</td>\n",
       "      <td>0</td>\n",
       "      <td>0</td>\n",
       "      <td>0</td>\n",
       "      <td>...</td>\n",
       "      <td>0</td>\n",
       "      <td>0</td>\n",
       "      <td>0</td>\n",
       "      <td>0</td>\n",
       "      <td>0</td>\n",
       "      <td>0</td>\n",
       "      <td>0</td>\n",
       "      <td>0</td>\n",
       "      <td>0.000000</td>\n",
       "      <td>0.000000</td>\n",
       "    </tr>\n",
       "    <tr>\n",
       "      <th>3</th>\n",
       "      <td>4677</td>\n",
       "      <td>Negative</td>\n",
       "      <td>I just won't be impressed until I can even dow...</td>\n",
       "      <td>0</td>\n",
       "      <td>0</td>\n",
       "      <td>0</td>\n",
       "      <td>0</td>\n",
       "      <td>0</td>\n",
       "      <td>0</td>\n",
       "      <td>0</td>\n",
       "      <td>...</td>\n",
       "      <td>0</td>\n",
       "      <td>0</td>\n",
       "      <td>0</td>\n",
       "      <td>0</td>\n",
       "      <td>0</td>\n",
       "      <td>0</td>\n",
       "      <td>0</td>\n",
       "      <td>0</td>\n",
       "      <td>1.000000</td>\n",
       "      <td>1.000000</td>\n",
       "    </tr>\n",
       "    <tr>\n",
       "      <th>4</th>\n",
       "      <td>11513</td>\n",
       "      <td>Positive</td>\n",
       "      <td>I am very really much looking forward to tonig...</td>\n",
       "      <td>0</td>\n",
       "      <td>0</td>\n",
       "      <td>0</td>\n",
       "      <td>0</td>\n",
       "      <td>0</td>\n",
       "      <td>0</td>\n",
       "      <td>0</td>\n",
       "      <td>...</td>\n",
       "      <td>0</td>\n",
       "      <td>0</td>\n",
       "      <td>0</td>\n",
       "      <td>1</td>\n",
       "      <td>0</td>\n",
       "      <td>0</td>\n",
       "      <td>0</td>\n",
       "      <td>0</td>\n",
       "      <td>-0.150000</td>\n",
       "      <td>0.500000</td>\n",
       "    </tr>\n",
       "  </tbody>\n",
       "</table>\n",
       "<p>5 rows × 37 columns</p>\n",
       "</div>"
      ],
      "text/plain": [
       "   Tweet_id   sentiment                                      tweet_content  \\\n",
       "0     13040  Irrelevant                      Death stories gif of the day,   \n",
       "1      4167    Positive  Tagged by @brntwllm  . . fave games i've playe...   \n",
       "2      3197    Negative    i admit nothing but my sadness that you're gone   \n",
       "3      4677    Negative  I just won't be impressed until I can even dow...   \n",
       "4     11513    Positive  I am very really much looking forward to tonig...   \n",
       "\n",
       "   entity_Amazon  entity_ApexLegends  entity_AssassinsCreed  \\\n",
       "0              0                   0                      0   \n",
       "1              0                   0                      0   \n",
       "2              0                   0                      0   \n",
       "3              0                   0                      0   \n",
       "4              0                   0                      0   \n",
       "\n",
       "   entity_Battlefield  entity_Borderlands  entity_CS-GO  entity_CallOfDuty  \\\n",
       "0                   0                   0             0                  0   \n",
       "1                   0                   0             1                  0   \n",
       "2                   0                   0             0                  0   \n",
       "3                   0                   0             0                  0   \n",
       "4                   0                   0             0                  0   \n",
       "\n",
       "   ...  entity_PlayerUnknownsBattlegrounds(PUBG)  \\\n",
       "0  ...                                         0   \n",
       "1  ...                                         0   \n",
       "2  ...                                         0   \n",
       "3  ...                                         0   \n",
       "4  ...                                         0   \n",
       "\n",
       "   entity_RedDeadRedemption(RDR)  entity_TomClancysGhostRecon  \\\n",
       "0                              0                            0   \n",
       "1                              0                            0   \n",
       "2                              0                            0   \n",
       "3                              0                            0   \n",
       "4                              0                            0   \n",
       "\n",
       "   entity_TomClancysRainbowSix  entity_Verizon  entity_WorldOfCraft  \\\n",
       "0                            0               0                    0   \n",
       "1                            0               0                    0   \n",
       "2                            0               0                    0   \n",
       "3                            0               0                    0   \n",
       "4                            1               0                    0   \n",
       "\n",
       "   entity_Xbox(Xseries)  entity_johnson&johnson  Polarity  Subjectivity  \n",
       "0                     1                       0  0.000000      0.000000  \n",
       "1                     0                       0  0.038095      0.352381  \n",
       "2                     0                       0  0.000000      0.000000  \n",
       "3                     0                       0  1.000000      1.000000  \n",
       "4                     0                       0 -0.150000      0.500000  \n",
       "\n",
       "[5 rows x 37 columns]"
      ]
     },
     "execution_count": 31,
     "metadata": {},
     "output_type": "execute_result"
    }
   ],
   "source": [
    "df.head()"
   ]
  },
  {
   "cell_type": "markdown",
   "id": "33b216a7",
   "metadata": {},
   "source": [
    "#### Labels to indexes(and back again)\n",
    "\n",
    "Here, as discussed above, we create a dictionary in order to change the text in the \"Sentiment\" column into an index representing the predicted sentiment.\n",
    "\n",
    "We then convert the \"Sentiment\" column in the training data to the labels, which is what we will learn to predict"
   ]
  },
  {
   "cell_type": "code",
   "execution_count": 32,
   "id": "fd3fd539",
   "metadata": {},
   "outputs": [],
   "source": [
    "#Define the indexing for each possible label in dictionary\n",
    "class_to_index = {\"Neutral\":0,\"Irrelevant\":0,\"Negative\":2,\"Positive\":3}\n",
    "\n",
    "#Create a reverse dictionary\n",
    "index_to_class = {0:\"Neutral/Irrelevant\",2:\"Negative\",3:\"Positive\"}\n",
    "\n",
    "#Create lambda function, applying the correct dictionary\n",
    "name_to_ids = lambda n: np.array([class_to_index.get(x) for x in n])\n",
    "ids_to_name = lambda n: np.array([index_to_class.get(x) for x in n])"
   ]
  },
  {
   "cell_type": "code",
   "execution_count": 34,
   "id": "9535d4b8",
   "metadata": {},
   "outputs": [
    {
     "name": "stdout",
     "output_type": "stream",
     "text": [
      "[3 2 0 0]\n",
      "['Neutral/Irrelevant' None 'Negative' 'Positive']\n"
     ]
    }
   ],
   "source": [
    "#Test each function\n",
    "print(name_to_ids([\"Positive\", \"Negative\", \"Irrelevant\", \"Neutral\"]))\n",
    "print(ids_to_name([0,1,2,3]))"
   ]
  },
  {
   "cell_type": "code",
   "execution_count": 37,
   "id": "a24c6b4d",
   "metadata": {},
   "outputs": [],
   "source": [
    "#Convert the \"Sentiment\" column into indexes\n",
    "df[\"sentiment\"] = name_to_ids(df[\"sentiment\"])"
   ]
  },
  {
   "cell_type": "code",
   "execution_count": 38,
   "id": "5162b4e9",
   "metadata": {},
   "outputs": [
    {
     "data": {
      "text/html": [
       "<div>\n",
       "<style scoped>\n",
       "    .dataframe tbody tr th:only-of-type {\n",
       "        vertical-align: middle;\n",
       "    }\n",
       "\n",
       "    .dataframe tbody tr th {\n",
       "        vertical-align: top;\n",
       "    }\n",
       "\n",
       "    .dataframe thead th {\n",
       "        text-align: right;\n",
       "    }\n",
       "</style>\n",
       "<table border=\"1\" class=\"dataframe\">\n",
       "  <thead>\n",
       "    <tr style=\"text-align: right;\">\n",
       "      <th></th>\n",
       "      <th>Tweet_id</th>\n",
       "      <th>sentiment</th>\n",
       "      <th>tweet_content</th>\n",
       "      <th>entity_Amazon</th>\n",
       "      <th>entity_ApexLegends</th>\n",
       "      <th>entity_AssassinsCreed</th>\n",
       "      <th>entity_Battlefield</th>\n",
       "      <th>entity_Borderlands</th>\n",
       "      <th>entity_CS-GO</th>\n",
       "      <th>entity_CallOfDuty</th>\n",
       "      <th>...</th>\n",
       "      <th>entity_PlayerUnknownsBattlegrounds(PUBG)</th>\n",
       "      <th>entity_RedDeadRedemption(RDR)</th>\n",
       "      <th>entity_TomClancysGhostRecon</th>\n",
       "      <th>entity_TomClancysRainbowSix</th>\n",
       "      <th>entity_Verizon</th>\n",
       "      <th>entity_WorldOfCraft</th>\n",
       "      <th>entity_Xbox(Xseries)</th>\n",
       "      <th>entity_johnson&amp;johnson</th>\n",
       "      <th>Polarity</th>\n",
       "      <th>Subjectivity</th>\n",
       "    </tr>\n",
       "  </thead>\n",
       "  <tbody>\n",
       "    <tr>\n",
       "      <th>0</th>\n",
       "      <td>13040</td>\n",
       "      <td>0</td>\n",
       "      <td>Death stories gif of the day,</td>\n",
       "      <td>0</td>\n",
       "      <td>0</td>\n",
       "      <td>0</td>\n",
       "      <td>0</td>\n",
       "      <td>0</td>\n",
       "      <td>0</td>\n",
       "      <td>0</td>\n",
       "      <td>...</td>\n",
       "      <td>0</td>\n",
       "      <td>0</td>\n",
       "      <td>0</td>\n",
       "      <td>0</td>\n",
       "      <td>0</td>\n",
       "      <td>0</td>\n",
       "      <td>1</td>\n",
       "      <td>0</td>\n",
       "      <td>0.000000</td>\n",
       "      <td>0.000000</td>\n",
       "    </tr>\n",
       "    <tr>\n",
       "      <th>1</th>\n",
       "      <td>4167</td>\n",
       "      <td>3</td>\n",
       "      <td>Tagged by @brntwllm  . . fave games i've playe...</td>\n",
       "      <td>0</td>\n",
       "      <td>0</td>\n",
       "      <td>0</td>\n",
       "      <td>0</td>\n",
       "      <td>0</td>\n",
       "      <td>1</td>\n",
       "      <td>0</td>\n",
       "      <td>...</td>\n",
       "      <td>0</td>\n",
       "      <td>0</td>\n",
       "      <td>0</td>\n",
       "      <td>0</td>\n",
       "      <td>0</td>\n",
       "      <td>0</td>\n",
       "      <td>0</td>\n",
       "      <td>0</td>\n",
       "      <td>0.038095</td>\n",
       "      <td>0.352381</td>\n",
       "    </tr>\n",
       "    <tr>\n",
       "      <th>2</th>\n",
       "      <td>3197</td>\n",
       "      <td>2</td>\n",
       "      <td>i admit nothing but my sadness that you're gone</td>\n",
       "      <td>0</td>\n",
       "      <td>0</td>\n",
       "      <td>0</td>\n",
       "      <td>0</td>\n",
       "      <td>0</td>\n",
       "      <td>0</td>\n",
       "      <td>0</td>\n",
       "      <td>...</td>\n",
       "      <td>0</td>\n",
       "      <td>0</td>\n",
       "      <td>0</td>\n",
       "      <td>0</td>\n",
       "      <td>0</td>\n",
       "      <td>0</td>\n",
       "      <td>0</td>\n",
       "      <td>0</td>\n",
       "      <td>0.000000</td>\n",
       "      <td>0.000000</td>\n",
       "    </tr>\n",
       "    <tr>\n",
       "      <th>3</th>\n",
       "      <td>4677</td>\n",
       "      <td>2</td>\n",
       "      <td>I just won't be impressed until I can even dow...</td>\n",
       "      <td>0</td>\n",
       "      <td>0</td>\n",
       "      <td>0</td>\n",
       "      <td>0</td>\n",
       "      <td>0</td>\n",
       "      <td>0</td>\n",
       "      <td>0</td>\n",
       "      <td>...</td>\n",
       "      <td>0</td>\n",
       "      <td>0</td>\n",
       "      <td>0</td>\n",
       "      <td>0</td>\n",
       "      <td>0</td>\n",
       "      <td>0</td>\n",
       "      <td>0</td>\n",
       "      <td>0</td>\n",
       "      <td>1.000000</td>\n",
       "      <td>1.000000</td>\n",
       "    </tr>\n",
       "    <tr>\n",
       "      <th>4</th>\n",
       "      <td>11513</td>\n",
       "      <td>3</td>\n",
       "      <td>I am very really much looking forward to tonig...</td>\n",
       "      <td>0</td>\n",
       "      <td>0</td>\n",
       "      <td>0</td>\n",
       "      <td>0</td>\n",
       "      <td>0</td>\n",
       "      <td>0</td>\n",
       "      <td>0</td>\n",
       "      <td>...</td>\n",
       "      <td>0</td>\n",
       "      <td>0</td>\n",
       "      <td>0</td>\n",
       "      <td>1</td>\n",
       "      <td>0</td>\n",
       "      <td>0</td>\n",
       "      <td>0</td>\n",
       "      <td>0</td>\n",
       "      <td>-0.150000</td>\n",
       "      <td>0.500000</td>\n",
       "    </tr>\n",
       "  </tbody>\n",
       "</table>\n",
       "<p>5 rows × 37 columns</p>\n",
       "</div>"
      ],
      "text/plain": [
       "   Tweet_id  sentiment                                      tweet_content  \\\n",
       "0     13040          0                      Death stories gif of the day,   \n",
       "1      4167          3  Tagged by @brntwllm  . . fave games i've playe...   \n",
       "2      3197          2    i admit nothing but my sadness that you're gone   \n",
       "3      4677          2  I just won't be impressed until I can even dow...   \n",
       "4     11513          3  I am very really much looking forward to tonig...   \n",
       "\n",
       "   entity_Amazon  entity_ApexLegends  entity_AssassinsCreed  \\\n",
       "0              0                   0                      0   \n",
       "1              0                   0                      0   \n",
       "2              0                   0                      0   \n",
       "3              0                   0                      0   \n",
       "4              0                   0                      0   \n",
       "\n",
       "   entity_Battlefield  entity_Borderlands  entity_CS-GO  entity_CallOfDuty  \\\n",
       "0                   0                   0             0                  0   \n",
       "1                   0                   0             1                  0   \n",
       "2                   0                   0             0                  0   \n",
       "3                   0                   0             0                  0   \n",
       "4                   0                   0             0                  0   \n",
       "\n",
       "   ...  entity_PlayerUnknownsBattlegrounds(PUBG)  \\\n",
       "0  ...                                         0   \n",
       "1  ...                                         0   \n",
       "2  ...                                         0   \n",
       "3  ...                                         0   \n",
       "4  ...                                         0   \n",
       "\n",
       "   entity_RedDeadRedemption(RDR)  entity_TomClancysGhostRecon  \\\n",
       "0                              0                            0   \n",
       "1                              0                            0   \n",
       "2                              0                            0   \n",
       "3                              0                            0   \n",
       "4                              0                            0   \n",
       "\n",
       "   entity_TomClancysRainbowSix  entity_Verizon  entity_WorldOfCraft  \\\n",
       "0                            0               0                    0   \n",
       "1                            0               0                    0   \n",
       "2                            0               0                    0   \n",
       "3                            0               0                    0   \n",
       "4                            1               0                    0   \n",
       "\n",
       "   entity_Xbox(Xseries)  entity_johnson&johnson  Polarity  Subjectivity  \n",
       "0                     1                       0  0.000000      0.000000  \n",
       "1                     0                       0  0.038095      0.352381  \n",
       "2                     0                       0  0.000000      0.000000  \n",
       "3                     0                       0  1.000000      1.000000  \n",
       "4                     0                       0 -0.150000      0.500000  \n",
       "\n",
       "[5 rows x 37 columns]"
      ]
     },
     "execution_count": 38,
     "metadata": {},
     "output_type": "execute_result"
    }
   ],
   "source": [
    "df.head()"
   ]
  },
  {
   "cell_type": "markdown",
   "id": "e038a188",
   "metadata": {},
   "source": [
    "### NLP DATA ENRICHMENT\n",
    "    \n",
    "    -Stop Word Removal and Lemmatisation with NLTK\n",
    "    -Tokenisation\n",
    "    -Adding the Tokenised Strings to the DataFrame"
   ]
  },
  {
   "cell_type": "code",
   "execution_count": 49,
   "id": "27160315",
   "metadata": {
    "scrolled": true
   },
   "outputs": [],
   "source": [
    "def remove_stopwords(ls):\n",
    "    #Lemmatises, then removes stop words\n",
    "    ls = [lemmatiser.lemmatize(word) for word in ls if word not in (stop_english) and (word.isalpha())]\n",
    "    \n",
    "    #Joins the words back into a single string\n",
    "    ls = \" \".join(ls)\n",
    "    return ls\n",
    "\n",
    "#Splits each string into a list of words\n",
    "df[\"tweet_content_split\"] = df[\"tweet_content\"].apply(word_tokenize)\n",
    "\n",
    "#Applies the above function to each entry in the DataFrame\n",
    "lemmatiser = WordNetLemmatizer()\n",
    "stop_english = Counter(stopwords.words()) #Here we use a Counter dictionary on the cached\n",
    "                                          # list of stop words for a huge speed-up\n",
    "df[\"tweet_content_split\"] = df[\"tweet_content_split\"].apply(remove_stopwords)"
   ]
  },
  {
   "cell_type": "code",
   "execution_count": 50,
   "id": "0c816c77",
   "metadata": {},
   "outputs": [
    {
     "data": {
      "text/html": [
       "<div>\n",
       "<style scoped>\n",
       "    .dataframe tbody tr th:only-of-type {\n",
       "        vertical-align: middle;\n",
       "    }\n",
       "\n",
       "    .dataframe tbody tr th {\n",
       "        vertical-align: top;\n",
       "    }\n",
       "\n",
       "    .dataframe thead th {\n",
       "        text-align: right;\n",
       "    }\n",
       "</style>\n",
       "<table border=\"1\" class=\"dataframe\">\n",
       "  <thead>\n",
       "    <tr style=\"text-align: right;\">\n",
       "      <th></th>\n",
       "      <th>Tweet_id</th>\n",
       "      <th>sentiment</th>\n",
       "      <th>tweet_content</th>\n",
       "      <th>entity_Amazon</th>\n",
       "      <th>entity_ApexLegends</th>\n",
       "      <th>entity_AssassinsCreed</th>\n",
       "      <th>entity_Battlefield</th>\n",
       "      <th>entity_Borderlands</th>\n",
       "      <th>entity_CS-GO</th>\n",
       "      <th>entity_CallOfDuty</th>\n",
       "      <th>...</th>\n",
       "      <th>entity_RedDeadRedemption(RDR)</th>\n",
       "      <th>entity_TomClancysGhostRecon</th>\n",
       "      <th>entity_TomClancysRainbowSix</th>\n",
       "      <th>entity_Verizon</th>\n",
       "      <th>entity_WorldOfCraft</th>\n",
       "      <th>entity_Xbox(Xseries)</th>\n",
       "      <th>entity_johnson&amp;johnson</th>\n",
       "      <th>Polarity</th>\n",
       "      <th>Subjectivity</th>\n",
       "      <th>tweet_content_split</th>\n",
       "    </tr>\n",
       "  </thead>\n",
       "  <tbody>\n",
       "    <tr>\n",
       "      <th>0</th>\n",
       "      <td>13040</td>\n",
       "      <td>0</td>\n",
       "      <td>Death stories gif of the day,</td>\n",
       "      <td>0</td>\n",
       "      <td>0</td>\n",
       "      <td>0</td>\n",
       "      <td>0</td>\n",
       "      <td>0</td>\n",
       "      <td>0</td>\n",
       "      <td>0</td>\n",
       "      <td>...</td>\n",
       "      <td>0</td>\n",
       "      <td>0</td>\n",
       "      <td>0</td>\n",
       "      <td>0</td>\n",
       "      <td>0</td>\n",
       "      <td>1</td>\n",
       "      <td>0</td>\n",
       "      <td>0.000000</td>\n",
       "      <td>0.000000</td>\n",
       "      <td>Death story gif day</td>\n",
       "    </tr>\n",
       "    <tr>\n",
       "      <th>1</th>\n",
       "      <td>4167</td>\n",
       "      <td>3</td>\n",
       "      <td>Tagged by @brntwllm  . . fave games i've playe...</td>\n",
       "      <td>0</td>\n",
       "      <td>0</td>\n",
       "      <td>0</td>\n",
       "      <td>0</td>\n",
       "      <td>0</td>\n",
       "      <td>1</td>\n",
       "      <td>0</td>\n",
       "      <td>...</td>\n",
       "      <td>0</td>\n",
       "      <td>0</td>\n",
       "      <td>0</td>\n",
       "      <td>0</td>\n",
       "      <td>0</td>\n",
       "      <td>0</td>\n",
       "      <td>0</td>\n",
       "      <td>0.038095</td>\n",
       "      <td>0.352381</td>\n",
       "      <td>Tagged brntwllm fave game played enjoyed remem...</td>\n",
       "    </tr>\n",
       "    <tr>\n",
       "      <th>2</th>\n",
       "      <td>3197</td>\n",
       "      <td>2</td>\n",
       "      <td>i admit nothing but my sadness that you're gone</td>\n",
       "      <td>0</td>\n",
       "      <td>0</td>\n",
       "      <td>0</td>\n",
       "      <td>0</td>\n",
       "      <td>0</td>\n",
       "      <td>0</td>\n",
       "      <td>0</td>\n",
       "      <td>...</td>\n",
       "      <td>0</td>\n",
       "      <td>0</td>\n",
       "      <td>0</td>\n",
       "      <td>0</td>\n",
       "      <td>0</td>\n",
       "      <td>0</td>\n",
       "      <td>0</td>\n",
       "      <td>0.000000</td>\n",
       "      <td>0.000000</td>\n",
       "      <td>admit nothing sadness gone</td>\n",
       "    </tr>\n",
       "    <tr>\n",
       "      <th>3</th>\n",
       "      <td>4677</td>\n",
       "      <td>2</td>\n",
       "      <td>I just won't be impressed until I can even dow...</td>\n",
       "      <td>0</td>\n",
       "      <td>0</td>\n",
       "      <td>0</td>\n",
       "      <td>0</td>\n",
       "      <td>0</td>\n",
       "      <td>0</td>\n",
       "      <td>0</td>\n",
       "      <td>...</td>\n",
       "      <td>0</td>\n",
       "      <td>0</td>\n",
       "      <td>0</td>\n",
       "      <td>0</td>\n",
       "      <td>0</td>\n",
       "      <td>0</td>\n",
       "      <td>0</td>\n",
       "      <td>1.000000</td>\n",
       "      <td>1.000000</td>\n",
       "      <td>I impressed I even download food</td>\n",
       "    </tr>\n",
       "    <tr>\n",
       "      <th>4</th>\n",
       "      <td>11513</td>\n",
       "      <td>3</td>\n",
       "      <td>I am very really much looking forward to tonig...</td>\n",
       "      <td>0</td>\n",
       "      <td>0</td>\n",
       "      <td>0</td>\n",
       "      <td>0</td>\n",
       "      <td>0</td>\n",
       "      <td>0</td>\n",
       "      <td>0</td>\n",
       "      <td>...</td>\n",
       "      <td>0</td>\n",
       "      <td>0</td>\n",
       "      <td>1</td>\n",
       "      <td>0</td>\n",
       "      <td>0</td>\n",
       "      <td>0</td>\n",
       "      <td>0</td>\n",
       "      <td>-0.150000</td>\n",
       "      <td>0.500000</td>\n",
       "      <td>I really much looking forward tonight game mus...</td>\n",
       "    </tr>\n",
       "  </tbody>\n",
       "</table>\n",
       "<p>5 rows × 38 columns</p>\n",
       "</div>"
      ],
      "text/plain": [
       "   Tweet_id  sentiment                                      tweet_content  \\\n",
       "0     13040          0                      Death stories gif of the day,   \n",
       "1      4167          3  Tagged by @brntwllm  . . fave games i've playe...   \n",
       "2      3197          2    i admit nothing but my sadness that you're gone   \n",
       "3      4677          2  I just won't be impressed until I can even dow...   \n",
       "4     11513          3  I am very really much looking forward to tonig...   \n",
       "\n",
       "   entity_Amazon  entity_ApexLegends  entity_AssassinsCreed  \\\n",
       "0              0                   0                      0   \n",
       "1              0                   0                      0   \n",
       "2              0                   0                      0   \n",
       "3              0                   0                      0   \n",
       "4              0                   0                      0   \n",
       "\n",
       "   entity_Battlefield  entity_Borderlands  entity_CS-GO  entity_CallOfDuty  \\\n",
       "0                   0                   0             0                  0   \n",
       "1                   0                   0             1                  0   \n",
       "2                   0                   0             0                  0   \n",
       "3                   0                   0             0                  0   \n",
       "4                   0                   0             0                  0   \n",
       "\n",
       "   ...  entity_RedDeadRedemption(RDR)  entity_TomClancysGhostRecon  \\\n",
       "0  ...                              0                            0   \n",
       "1  ...                              0                            0   \n",
       "2  ...                              0                            0   \n",
       "3  ...                              0                            0   \n",
       "4  ...                              0                            0   \n",
       "\n",
       "   entity_TomClancysRainbowSix  entity_Verizon  entity_WorldOfCraft  \\\n",
       "0                            0               0                    0   \n",
       "1                            0               0                    0   \n",
       "2                            0               0                    0   \n",
       "3                            0               0                    0   \n",
       "4                            1               0                    0   \n",
       "\n",
       "   entity_Xbox(Xseries)  entity_johnson&johnson  Polarity  Subjectivity  \\\n",
       "0                     1                       0  0.000000      0.000000   \n",
       "1                     0                       0  0.038095      0.352381   \n",
       "2                     0                       0  0.000000      0.000000   \n",
       "3                     0                       0  1.000000      1.000000   \n",
       "4                     0                       0 -0.150000      0.500000   \n",
       "\n",
       "                                 tweet_content_split  \n",
       "0                                Death story gif day  \n",
       "1  Tagged brntwllm fave game played enjoyed remem...  \n",
       "2                         admit nothing sadness gone  \n",
       "3                   I impressed I even download food  \n",
       "4  I really much looking forward tonight game mus...  \n",
       "\n",
       "[5 rows x 38 columns]"
      ]
     },
     "execution_count": 50,
     "metadata": {},
     "output_type": "execute_result"
    }
   ],
   "source": [
    "df.head()"
   ]
  },
  {
   "cell_type": "markdown",
   "id": "18944bbc",
   "metadata": {},
   "source": [
    "#### TOKENISATION"
   ]
  },
  {
   "cell_type": "code",
   "execution_count": 51,
   "id": "9f9f07b2",
   "metadata": {},
   "outputs": [],
   "source": [
    "#Define the Tokeniser\n",
    "tokeniser = Tokenizer(num_words=1000, lower=True)\n",
    "\n",
    "#Create the corpus by finding the most common \n",
    "tokeniser.fit_on_texts(df[\"tweet_content_split\"])"
   ]
  },
  {
   "cell_type": "code",
   "execution_count": 52,
   "id": "4a689995",
   "metadata": {},
   "outputs": [],
   "source": [
    "#Tokenise our column of edited Tweet content\n",
    "tweet_tokens = tokeniser.texts_to_matrix(list(df[\"tweet_content_split\"]))"
   ]
  },
  {
   "cell_type": "code",
   "execution_count": 53,
   "id": "086b635a",
   "metadata": {},
   "outputs": [
    {
     "data": {
      "text/plain": [
       "(7400, 1000)"
      ]
     },
     "execution_count": 53,
     "metadata": {},
     "output_type": "execute_result"
    }
   ],
   "source": [
    "tweet_tokens.shape"
   ]
  },
  {
   "cell_type": "markdown",
   "id": "1d1fa141",
   "metadata": {},
   "source": [
    "#### Adding the Tokenised Strings to the DataFrame"
   ]
  },
  {
   "cell_type": "code",
   "execution_count": 54,
   "id": "6972f273",
   "metadata": {},
   "outputs": [
    {
     "data": {
      "text/plain": [
       "(7400, 1038)"
      ]
     },
     "execution_count": 54,
     "metadata": {},
     "output_type": "execute_result"
    }
   ],
   "source": [
    "#Combining the dataframe with the tokens using pd.concat\n",
    "full_df = pd.concat([df, pd.DataFrame(tweet_tokens)], sort=False, axis=1)\n",
    "full_df.shape"
   ]
  },
  {
   "cell_type": "markdown",
   "id": "f5fba272",
   "metadata": {},
   "source": [
    "### Final Data Preparation"
   ]
  },
  {
   "cell_type": "markdown",
   "id": "c31ee392",
   "metadata": {},
   "source": [
    "#### Dropping Unused Data"
   ]
  },
  {
   "cell_type": "code",
   "execution_count": 58,
   "id": "8088545a",
   "metadata": {},
   "outputs": [],
   "source": [
    "#Remove dependent variable\n",
    "y = full_df[\"sentiment\"]\n",
    "\n",
    "#Drop all non-useful columns\n",
    "full_df = full_df.drop([\"sentiment\", \"Tweet_id\", \"tweet_content\", \"tweet_content_split\"], axis=1)"
   ]
  },
  {
   "cell_type": "code",
   "execution_count": 59,
   "id": "a7b81815",
   "metadata": {},
   "outputs": [
    {
     "data": {
      "text/plain": [
       "(7400, 1034)"
      ]
     },
     "execution_count": 59,
     "metadata": {},
     "output_type": "execute_result"
    }
   ],
   "source": [
    "#Display final shape\n",
    "full_df.shape"
   ]
  },
  {
   "cell_type": "markdown",
   "id": "21cd3bac",
   "metadata": {},
   "source": [
    "#### Train-Test-Split"
   ]
  },
  {
   "cell_type": "code",
   "execution_count": 60,
   "id": "46c3f8b5",
   "metadata": {},
   "outputs": [],
   "source": [
    "X_train, X_test, y_train, y_test = train_test_split(full_df, y, test_size=0.2, random_state=1)"
   ]
  },
  {
   "cell_type": "markdown",
   "id": "a08307bc",
   "metadata": {},
   "source": [
    "## Model Construction and Training"
   ]
  },
  {
   "cell_type": "markdown",
   "id": "1700cf3c",
   "metadata": {},
   "source": [
    "#### Model Construction"
   ]
  },
  {
   "cell_type": "code",
   "execution_count": 61,
   "id": "78b77aa3",
   "metadata": {},
   "outputs": [],
   "source": [
    "#Test model\n",
    "model = tf.keras.models.Sequential([\n",
    "    tf.keras.layers.Dense(12, input_dim=1034, activation='relu'),\n",
    "    tf.keras.layers.Dense(8, activation='relu'),\n",
    "    tf.keras.layers.Dense(50, activation='relu'),\n",
    "    tf.keras.layers.Dropout(0.1),\n",
    "    tf.keras.layers.Dense(12, activation='relu'),\n",
    "    tf.keras.layers.Dense(50, activation='relu'),\n",
    "    tf.keras.layers.Dense(4, activation='sigmoid')\n",
    "])\n",
    "model.compile(\n",
    "     loss='sparse_categorical_crossentropy',\n",
    "     optimizer='adam',\n",
    "     metrics=['accuracy']\n",
    ")"
   ]
  },
  {
   "cell_type": "markdown",
   "id": "d05407de",
   "metadata": {},
   "source": [
    "#### Training"
   ]
  },
  {
   "cell_type": "code",
   "execution_count": 62,
   "id": "217f63e5",
   "metadata": {},
   "outputs": [
    {
     "name": "stdout",
     "output_type": "stream",
     "text": [
      "Epoch 1/30\n",
      "185/185 [==============================] - 1s 4ms/step - loss: 1.1079 - accuracy: 0.4461 - val_loss: 0.9355 - val_accuracy: 0.5122\n",
      "Epoch 2/30\n",
      "185/185 [==============================] - 0s 2ms/step - loss: 0.8752 - accuracy: 0.5674 - val_loss: 0.8532 - val_accuracy: 0.6041\n",
      "Epoch 3/30\n",
      "185/185 [==============================] - 0s 2ms/step - loss: 0.7601 - accuracy: 0.6640 - val_loss: 0.8524 - val_accuracy: 0.6169\n",
      "Epoch 4/30\n",
      "185/185 [==============================] - 0s 2ms/step - loss: 0.6718 - accuracy: 0.7172 - val_loss: 0.8744 - val_accuracy: 0.6203\n",
      "Epoch 5/30\n",
      "185/185 [==============================] - 0s 2ms/step - loss: 0.6053 - accuracy: 0.7569 - val_loss: 0.9064 - val_accuracy: 0.6122\n",
      "Epoch 6/30\n",
      "185/185 [==============================] - 0s 2ms/step - loss: 0.5426 - accuracy: 0.7861 - val_loss: 0.9809 - val_accuracy: 0.6000\n",
      "Epoch 7/30\n",
      "185/185 [==============================] - 0s 2ms/step - loss: 0.4870 - accuracy: 0.8179 - val_loss: 1.0672 - val_accuracy: 0.6203\n",
      "Epoch 8/30\n",
      "185/185 [==============================] - 0s 2ms/step - loss: 0.4323 - accuracy: 0.8360 - val_loss: 1.1321 - val_accuracy: 0.6068\n",
      "Epoch 9/30\n",
      "185/185 [==============================] - 0s 2ms/step - loss: 0.3909 - accuracy: 0.8525 - val_loss: 1.2076 - val_accuracy: 0.6142\n",
      "Epoch 10/30\n",
      "185/185 [==============================] - 0s 2ms/step - loss: 0.3510 - accuracy: 0.8706 - val_loss: 1.3205 - val_accuracy: 0.6061\n",
      "Epoch 11/30\n",
      "185/185 [==============================] - 0s 2ms/step - loss: 0.3153 - accuracy: 0.8878 - val_loss: 1.4647 - val_accuracy: 0.5919\n",
      "Epoch 12/30\n",
      "185/185 [==============================] - 0s 2ms/step - loss: 0.2864 - accuracy: 0.8990 - val_loss: 1.5218 - val_accuracy: 0.5892\n",
      "Epoch 13/30\n",
      "185/185 [==============================] - 0s 2ms/step - loss: 0.2575 - accuracy: 0.9120 - val_loss: 1.6667 - val_accuracy: 0.5946\n",
      "Epoch 14/30\n",
      "185/185 [==============================] - 0s 2ms/step - loss: 0.2367 - accuracy: 0.9150 - val_loss: 1.6609 - val_accuracy: 0.5966\n",
      "Epoch 15/30\n",
      "185/185 [==============================] - 0s 2ms/step - loss: 0.2279 - accuracy: 0.9182 - val_loss: 1.9288 - val_accuracy: 0.5932\n",
      "Epoch 16/30\n",
      "185/185 [==============================] - 0s 2ms/step - loss: 0.2165 - accuracy: 0.9258 - val_loss: 1.9788 - val_accuracy: 0.5966\n",
      "Epoch 17/30\n",
      "185/185 [==============================] - 0s 2ms/step - loss: 0.2008 - accuracy: 0.9280 - val_loss: 2.1591 - val_accuracy: 0.5878\n",
      "Epoch 18/30\n",
      "185/185 [==============================] - 0s 2ms/step - loss: 0.1829 - accuracy: 0.9375 - val_loss: 2.2522 - val_accuracy: 0.5959\n",
      "Epoch 19/30\n",
      "185/185 [==============================] - 0s 2ms/step - loss: 0.1780 - accuracy: 0.9392 - val_loss: 2.4013 - val_accuracy: 0.5966\n",
      "Epoch 20/30\n",
      "185/185 [==============================] - 0s 2ms/step - loss: 0.1715 - accuracy: 0.9410 - val_loss: 2.4837 - val_accuracy: 0.5885\n",
      "Epoch 21/30\n",
      "185/185 [==============================] - 0s 2ms/step - loss: 0.1618 - accuracy: 0.9436 - val_loss: 2.6282 - val_accuracy: 0.5892\n",
      "Epoch 22/30\n",
      "185/185 [==============================] - 0s 2ms/step - loss: 0.1573 - accuracy: 0.9424 - val_loss: 2.5906 - val_accuracy: 0.5946\n",
      "Epoch 23/30\n",
      "185/185 [==============================] - 0s 2ms/step - loss: 0.1669 - accuracy: 0.9395 - val_loss: 2.5935 - val_accuracy: 0.5892\n",
      "Epoch 24/30\n",
      "185/185 [==============================] - 0s 2ms/step - loss: 0.1647 - accuracy: 0.9404 - val_loss: 2.5784 - val_accuracy: 0.5845\n",
      "Epoch 25/30\n",
      "185/185 [==============================] - 0s 2ms/step - loss: 0.1407 - accuracy: 0.9468 - val_loss: 2.7318 - val_accuracy: 0.5885\n",
      "Epoch 26/30\n",
      "185/185 [==============================] - 0s 2ms/step - loss: 0.1287 - accuracy: 0.9510 - val_loss: 2.9787 - val_accuracy: 0.5899\n",
      "Epoch 27/30\n",
      "185/185 [==============================] - 0s 2ms/step - loss: 0.1217 - accuracy: 0.9541 - val_loss: 3.0948 - val_accuracy: 0.5926\n",
      "Epoch 28/30\n",
      "185/185 [==============================] - 0s 2ms/step - loss: 0.1243 - accuracy: 0.9514 - val_loss: 3.1543 - val_accuracy: 0.5878\n",
      "Epoch 29/30\n",
      "185/185 [==============================] - 0s 2ms/step - loss: 0.1218 - accuracy: 0.9524 - val_loss: 3.3584 - val_accuracy: 0.5926\n",
      "Epoch 30/30\n",
      "185/185 [==============================] - 0s 2ms/step - loss: 0.1274 - accuracy: 0.9490 - val_loss: 3.1904 - val_accuracy: 0.5824\n"
     ]
    }
   ],
   "source": [
    "h = model.fit(\n",
    "     X_train, y_train,\n",
    "     validation_data=(X_test, y_test),\n",
    "     epochs=30,\n",
    "     callbacks=[tf.keras.callbacks.EarlyStopping(monitor='accuracy', patience=5)]\n",
    ")"
   ]
  },
  {
   "cell_type": "markdown",
   "id": "f01e1318",
   "metadata": {},
   "source": [
    "### Model Evaluation"
   ]
  },
  {
   "cell_type": "code",
   "execution_count": 64,
   "id": "078cefd3",
   "metadata": {},
   "outputs": [],
   "source": [
    "#Generate predictions\n",
    "y_pred = np.argmax(model.predict(X_test), axis=1)\n",
    "\n",
    "#Assign labels to predictions and test data\n",
    "y_pred_labels = ids_to_name(y_pred)\n",
    "y_test_labels = ids_to_name(y_test)"
   ]
  },
  {
   "cell_type": "code",
   "execution_count": 65,
   "id": "58410972",
   "metadata": {},
   "outputs": [
    {
     "data": {
      "text/plain": [
       "<sklearn.metrics._plot.confusion_matrix.ConfusionMatrixDisplay at 0x23d12cab550>"
      ]
     },
     "execution_count": 65,
     "metadata": {},
     "output_type": "execute_result"
    },
    {
     "data": {
      "image/png": "[encoded data removed]",
      "text/plain": [
       "<Figure size 432x288 with 2 Axes>"
      ]
     },
     "metadata": {
      "needs_background": "light"
     },
     "output_type": "display_data"
    }
   ],
   "source": [
    "y_unique = list(set(y_test_labels))\n",
    "cm = confusion_matrix(y_test_labels, y_pred_labels, labels = y_unique, normalize='true')\n",
    "\n",
    "disp = ConfusionMatrixDisplay(confusion_matrix=cm, display_labels=y_unique)\n",
    "disp.plot()"
   ]
  },
  {
   "cell_type": "markdown",
   "id": "80dfeee7",
   "metadata": {},
   "source": [
    "### TRAINING WITH FULL DATASET"
   ]
  },
  {
   "cell_type": "code",
   "execution_count": 66,
   "id": "b827cd20",
   "metadata": {},
   "outputs": [],
   "source": [
    "#Use the full dataset!\n",
    "df = train_df\n",
    "\n",
    "# the test dataframe was loaded earlier and is named test_df"
   ]
  },
  {
   "cell_type": "code",
   "execution_count": 67,
   "id": "319dccbb",
   "metadata": {},
   "outputs": [],
   "source": [
    "#One-hot encode using Pandas' get_dummies()\n",
    "\n",
    "##Train\n",
    "onehot = pd.get_dummies(df[\"entity\"], prefix=\"entity\")\n",
    "\n",
    "#Join these new columns back into the DataFrame\n",
    "df = df.join(onehot)\n",
    "\n",
    "\n",
    "##Test\n",
    "onehot = pd.get_dummies(test_df[\"entity\"], prefix=\"entity\")\n",
    "\n",
    "test_df = test_df.join(onehot)"
   ]
  },
  {
   "cell_type": "code",
   "execution_count": 68,
   "id": "5647e82c",
   "metadata": {},
   "outputs": [],
   "source": [
    "#Enrich using TextBlob's built in sentiment analysis\n",
    "\n",
    "##Train\n",
    "df[\"Polarity\"], df[\"Subjectivity\"] = tb_enrich(list(df[\"tweet_content\"]))\n",
    "\n",
    "\n",
    "##Test\n",
    "test_df[\"Polarity\"], test_df[\"Subjectivity\"] = tb_enrich(list(test_df[\"tweet_content\"]))"
   ]
  },
  {
   "cell_type": "code",
   "execution_count": 70,
   "id": "784b79b5",
   "metadata": {},
   "outputs": [],
   "source": [
    "#Convert the \"Sentiment\" column into indexes\n",
    "\n",
    "##Train\n",
    "df[\"sentiment\"] = name_to_ids(df[\"sentiment\"])\n",
    "y = df[\"sentiment\"]\n",
    "\n",
    "##Test\n",
    "test_df[\"sentiment\"] = name_to_ids(test_df[\"sentiment\"])\n",
    "y_test = test_df[\"sentiment\"]"
   ]
  },
  {
   "cell_type": "markdown",
   "id": "128328f8",
   "metadata": {},
   "source": [
    "#### NLP Data Enrichment"
   ]
  },
  {
   "cell_type": "code",
   "execution_count": 71,
   "id": "c9439b53",
   "metadata": {},
   "outputs": [],
   "source": [
    "#Removing stopwords and lemmatising\n",
    "\n",
    "##Train\n",
    "#Splits each string into a list of words\n",
    "df[\"tweet_content_split\"] = df[\"tweet_content\"].apply(word_tokenize)\n",
    "\n",
    "#Applies the above function to each entry in the DataFrame\n",
    "lemmatiser = WordNetLemmatizer()\n",
    "stop_english = Counter(stopwords.words()) #Here we use a Counter dictionary on the cached\n",
    "                                          # list of stop words for a huge speed-up\n",
    "df[\"tweet_content_split\"] = df[\"tweet_content_split\"].apply(remove_stopwords)\n",
    "\n",
    "##Test\n",
    "test_df[\"tweet_content_split\"] = test_df[\"tweet_content\"].apply(word_tokenize)\n",
    "\n",
    "test_df[\"tweet_content_split\"] = test_df[\"tweet_content_split\"].apply(remove_stopwords)"
   ]
  },
  {
   "cell_type": "code",
   "execution_count": 72,
   "id": "80cdb29d",
   "metadata": {},
   "outputs": [],
   "source": [
    "#Tokenisation\n",
    "\n",
    "#Define the Tokeniser\n",
    "tokeniser = Tokenizer(num_words=1000, lower=True)\n",
    "\n",
    "#Create the corpus by finding the most common \n",
    "tokeniser.fit_on_texts(df[\"tweet_content_split\"])\n",
    "\n",
    "##Train\n",
    "#Tokenise our column of edited Tweet content\n",
    "tweet_tokens = tokeniser.texts_to_matrix(list(df[\"tweet_content_split\"]))\n",
    "\n",
    "##Test\n",
    "#Tokenise our column of edited Tweet content\n",
    "tweet_tokens_test = tokeniser.texts_to_matrix(list(test_df[\"tweet_content_split\"]))"
   ]
  },
  {
   "cell_type": "code",
   "execution_count": 73,
   "id": "4af5bebd",
   "metadata": {},
   "outputs": [],
   "source": [
    "#Combining the dataframe with the tokens using pd.concat\n",
    "\n",
    "#Reset axes to avoid overlapping\n",
    "df.reset_index(drop=True, inplace=True)\n",
    "test_df.reset_index(drop=True, inplace=True)\n",
    "\n",
    "##Train\n",
    "full_df = pd.concat([df, pd.DataFrame(tweet_tokens)], sort=False, axis=1)\n",
    "\n",
    "##Test\n",
    "full_test_df = pd.concat([test_df, pd.DataFrame(tweet_tokens_test)], sort=False, axis=1)"
   ]
  },
  {
   "cell_type": "code",
   "execution_count": 74,
   "id": "cbe5469b",
   "metadata": {},
   "outputs": [],
   "source": [
    "#Final prep\n",
    "\n",
    "##Train\n",
    "#Drop all non-useful columns\n",
    "full_df = full_df.drop([\"sentiment\", \"Tweet_id\", \"tweet_content\", \"tweet_content_split\", \"entity\"], axis=1)\n",
    "\n",
    "\n",
    "##Test\n",
    "full_test_df = full_test_df.drop([\"sentiment\", \"Tweet_id\", \"tweet_content\", \"tweet_content_split\", \"entity\"], axis=1)"
   ]
  },
  {
   "cell_type": "markdown",
   "id": "463d1f4c",
   "metadata": {},
   "source": [
    "#### Model Definition and Training"
   ]
  },
  {
   "cell_type": "code",
   "execution_count": 75,
   "id": "9ec8dee7",
   "metadata": {},
   "outputs": [],
   "source": [
    "model = tf.keras.models.Sequential([\n",
    "    tf.keras.layers.Dense(12, input_dim=1034, activation='relu'),\n",
    "    tf.keras.layers.Dense(8, activation='relu'),\n",
    "    tf.keras.layers.Dense(50, activation='relu'),\n",
    "    tf.keras.layers.Dropout(0.1),\n",
    "    tf.keras.layers.Dense(12, activation='relu'),\n",
    "    tf.keras.layers.Dense(50, activation='relu'),\n",
    "    tf.keras.layers.Dense(4, activation='sigmoid')\n",
    "])\n",
    "model.compile(\n",
    "     loss='sparse_categorical_crossentropy',\n",
    "     optimizer='adam',\n",
    "     metrics=['accuracy']\n",
    ")"
   ]
  },
  {
   "cell_type": "code",
   "execution_count": 76,
   "id": "5ead32bd",
   "metadata": {},
   "outputs": [
    {
     "name": "stdout",
     "output_type": "stream",
     "text": [
      "Epoch 1/30\n",
      "2313/2313 [==============================] - 4s 1ms/step - loss: 0.8265 - accuracy: 0.6187\n",
      "Epoch 2/30\n",
      "2313/2313 [==============================] - 3s 1ms/step - loss: 0.6945 - accuracy: 0.6989\n",
      "Epoch 3/30\n",
      "2313/2313 [==============================] - 3s 1ms/step - loss: 0.6239 - accuracy: 0.7366\n",
      "Epoch 4/30\n",
      "2313/2313 [==============================] - 3s 1ms/step - loss: 0.5773 - accuracy: 0.7596\n",
      "Epoch 5/30\n",
      "2313/2313 [==============================] - 3s 1ms/step - loss: 0.5431 - accuracy: 0.7765\n",
      "Epoch 6/30\n",
      "2313/2313 [==============================] - 3s 1ms/step - loss: 0.5229 - accuracy: 0.7869\n",
      "Epoch 7/30\n",
      "2313/2313 [==============================] - 3s 1ms/step - loss: 0.5045 - accuracy: 0.7962\n",
      "Epoch 8/30\n",
      "2313/2313 [==============================] - 3s 1ms/step - loss: 0.4900 - accuracy: 0.8032\n",
      "Epoch 9/30\n",
      "2313/2313 [==============================] - 3s 1ms/step - loss: 0.4794 - accuracy: 0.8081\n",
      "Epoch 10/30\n",
      "2313/2313 [==============================] - 3s 1ms/step - loss: 0.4688 - accuracy: 0.8144\n",
      "Epoch 11/30\n",
      "2313/2313 [==============================] - 3s 1ms/step - loss: 0.4615 - accuracy: 0.8184\n",
      "Epoch 12/30\n",
      "2313/2313 [==============================] - 3s 1ms/step - loss: 0.4527 - accuracy: 0.8225\n",
      "Epoch 13/30\n",
      "2313/2313 [==============================] - 3s 1ms/step - loss: 0.4452 - accuracy: 0.8259\n",
      "Epoch 14/30\n",
      "2313/2313 [==============================] - 3s 1ms/step - loss: 0.4395 - accuracy: 0.8282\n",
      "Epoch 15/30\n",
      "2313/2313 [==============================] - 3s 1ms/step - loss: 0.4322 - accuracy: 0.8324\n",
      "Epoch 16/30\n",
      "2313/2313 [==============================] - 4s 2ms/step - loss: 0.4283 - accuracy: 0.8337\n",
      "Epoch 17/30\n",
      "2313/2313 [==============================] - 4s 2ms/step - loss: 0.4221 - accuracy: 0.8363\n",
      "Epoch 18/30\n",
      "2313/2313 [==============================] - 4s 2ms/step - loss: 0.4173 - accuracy: 0.8390\n",
      "Epoch 19/30\n",
      "2313/2313 [==============================] - 3s 1ms/step - loss: 0.4135 - accuracy: 0.8403\n",
      "Epoch 20/30\n",
      "2313/2313 [==============================] - 4s 2ms/step - loss: 0.4091 - accuracy: 0.8428\n",
      "Epoch 21/30\n",
      "2313/2313 [==============================] - 4s 2ms/step - loss: 0.4032 - accuracy: 0.8457\n",
      "Epoch 22/30\n",
      "2313/2313 [==============================] - 3s 1ms/step - loss: 0.4019 - accuracy: 0.8463\n",
      "Epoch 23/30\n",
      "2313/2313 [==============================] - 4s 2ms/step - loss: 0.3981 - accuracy: 0.8489\n",
      "Epoch 24/30\n",
      "2313/2313 [==============================] - 4s 2ms/step - loss: 0.3934 - accuracy: 0.8509\n",
      "Epoch 25/30\n",
      "2313/2313 [==============================] - 4s 2ms/step - loss: 0.3910 - accuracy: 0.8523\n",
      "Epoch 26/30\n",
      "2313/2313 [==============================] - 4s 2ms/step - loss: 0.3887 - accuracy: 0.8523\n",
      "Epoch 27/30\n",
      "2313/2313 [==============================] - 3s 1ms/step - loss: 0.3861 - accuracy: 0.8540\n",
      "Epoch 28/30\n",
      "2313/2313 [==============================] - 3s 1ms/step - loss: 0.3832 - accuracy: 0.8554\n",
      "Epoch 29/30\n",
      "2313/2313 [==============================] - 3s 1ms/step - loss: 0.3802 - accuracy: 0.8558\n",
      "Epoch 30/30\n",
      "2313/2313 [==============================] - 3s 1ms/step - loss: 0.3784 - accuracy: 0.8569\n"
     ]
    }
   ],
   "source": [
    "h = model.fit(\n",
    "     full_df, y,\n",
    "     epochs=30,\n",
    "     callbacks=[tf.keras.callbacks.EarlyStopping(monitor='accuracy', patience=5)]\n",
    ")"
   ]
  },
  {
   "cell_type": "markdown",
   "id": "7c1d11b7",
   "metadata": {},
   "source": [
    "### FINAL MODEL EVALUATION"
   ]
  },
  {
   "cell_type": "code",
   "execution_count": 77,
   "id": "344ebb48",
   "metadata": {},
   "outputs": [],
   "source": [
    "#Generate predictions\n",
    "y_pred = np.argmax(model.predict(full_test_df), axis=1)\n",
    "\n",
    "#Assign labels to predictions and test data\n",
    "y_pred_labels = ids_to_name(y_pred)\n",
    "y_test_labels = ids_to_name(y_test)"
   ]
  },
  {
   "cell_type": "code",
   "execution_count": 78,
   "id": "912f25b3",
   "metadata": {},
   "outputs": [
    {
     "data": {
      "text/plain": [
       "<sklearn.metrics._plot.confusion_matrix.ConfusionMatrixDisplay at 0x23d1b1c29a0>"
      ]
     },
     "execution_count": 78,
     "metadata": {},
     "output_type": "execute_result"
    },
    {
     "data": {
      "image/png": "[encoded data removed]",
      "text/plain": [
       "<Figure size 432x288 with 2 Axes>"
      ]
     },
     "metadata": {
      "needs_background": "light"
     },
     "output_type": "display_data"
    }
   ],
   "source": [
    "y_unique = list(set(y_test_labels))\n",
    "cm = confusion_matrix(y_test_labels, y_pred_labels, labels = y_unique, normalize='true')\n",
    "\n",
    "disp = ConfusionMatrixDisplay(confusion_matrix=cm, display_labels=y_unique)\n",
    "disp.plot()"
   ]
  },
  {
   "cell_type": "code",
   "execution_count": 79,
   "id": "8e0e68ad",
   "metadata": {},
   "outputs": [
    {
     "data": {
      "text/plain": [
       "0.892"
      ]
     },
     "execution_count": 79,
     "metadata": {},
     "output_type": "execute_result"
    }
   ],
   "source": [
    "#To see the final accuracy\n",
    "accuracy_score(y_test, y_pred)"
   ]
  }
 ],
 "metadata": {
  "kernelspec": {
   "display_name": "Python 3",
   "language": "python",
   "name": "python3"
  },
  "language_info": {
   "codemirror_mode": {
    "name": "ipython",
    "version": 3
   },
   "file_extension": ".py",
   "mimetype": "text/x-python",
   "name": "python",
   "nbconvert_exporter": "python",
   "pygments_lexer": "ipython3",
   "version": "3.8.8"
  }
 },
 "nbformat": 4,
 "nbformat_minor": 5
}
